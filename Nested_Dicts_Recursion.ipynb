{
 "cells": [
  {
   "cell_type": "markdown",
   "metadata": {},
   "source": [
    "## Solving the problem of nested dictionaries"
   ]
  },
  {
   "cell_type": "markdown",
   "metadata": {},
   "source": [
    "### defining the recursion function"
   ]
  },
  {
   "cell_type": "code",
   "execution_count": 114,
   "metadata": {},
   "outputs": [],
   "source": [
    "def nested_func_gen(inputDict,output):\n",
    "    # get current key\n",
    "    for key in inputDict.keys():\n",
    "        output2 = output + '>' + key\n",
    "        if type(inputDict.get(key)) is dict:\n",
    "            nested_func_gen(inputDict.get(key),output2)\n",
    "        else:\n",
    "            print ({output2:sum(inputDict.get(key))})"
   ]
  },
  {
   "cell_type": "code",
   "execution_count": 115,
   "metadata": {},
   "outputs": [],
   "source": [
    "testDict = {'A1':{'B1':{'C1':[1,0,1],\n",
    "                        'C2':[1,1,1]},\n",
    "                  'B2':{'C3':[1,0,0],\n",
    "                        'C4':[0,0,0]}},\n",
    "           'A2':{'B3':{'C5':[1,0,1],\n",
    "                        'C6':[1,1,1]},\n",
    "                  'B4':{'C7':[1,0,0],\n",
    "                        'C8':[0,0,0]}}\n",
    "           }"
   ]
  },
  {
   "cell_type": "code",
   "execution_count": 116,
   "metadata": {},
   "outputs": [
    {
     "name": "stdout",
     "output_type": "stream",
     "text": [
      "{'>A1>B1>C1': 2}\n",
      "{'>A1>B1>C2': 3}\n",
      "{'>A1>B2>C3': 1}\n",
      "{'>A1>B2>C4': 0}\n",
      "{'>A2>B3>C5': 2}\n",
      "{'>A2>B3>C6': 3}\n",
      "{'>A2>B4>C7': 1}\n",
      "{'>A2>B4>C8': 0}\n"
     ]
    }
   ],
   "source": [
    "nested_func_gen(testDict,'')"
   ]
  },
  {
   "cell_type": "code",
   "execution_count": null,
   "metadata": {},
   "outputs": [],
   "source": []
  }
 ],
 "metadata": {
  "kernelspec": {
   "display_name": "Python 3",
   "language": "python",
   "name": "python3"
  },
  "language_info": {
   "codemirror_mode": {
    "name": "ipython",
    "version": 3
   },
   "file_extension": ".py",
   "mimetype": "text/x-python",
   "name": "python",
   "nbconvert_exporter": "python",
   "pygments_lexer": "ipython3",
   "version": "3.6.8"
  }
 },
 "nbformat": 4,
 "nbformat_minor": 2
}
